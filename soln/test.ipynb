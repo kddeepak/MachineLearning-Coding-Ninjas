{
 "cells": [
  {
   "cell_type": "markdown",
   "metadata": {},
   "source": [
    "Testing\n"
   ]
  },
  {
   "cell_type": "code",
   "execution_count": 17,
   "metadata": {},
   "outputs": [
    {
     "name": "stdout",
     "output_type": "stream",
     "text": [
      "[10.68066 25.85811 18.5623  21.17022 19.4082   3.79773 27.48688 26.13997\n",
      " 20.81864 35.47529 23.52299 15.31127 30.51092 22.0522  34.05771 19.57589\n",
      " 26.50346 26.93044 15.48527 34.37845 23.3858  23.66957 35.98241 32.23626\n",
      " 27.48766 16.04911 27.99138 31.02028 22.12798 34.66362 17.79722 24.88608\n",
      " 24.13448 26.65329 10.12395 41.1689  31.06202 31.3822  25.13063  4.42776\n",
      "  4.44506 28.74091 22.35554 25.7696  19.56713 -1.17672 36.4417  24.22767\n",
      " 34.38014 13.57026 13.99709 32.09759 16.57172 27.2252  21.64077 25.8778\n",
      " 18.05437 25.388   14.80313 17.32565 14.05303 30.29153 30.20704 28.13772\n",
      " 16.74601 23.37609 28.51901 17.42071 26.91007 37.95891 31.02028 26.6197\n",
      " 18.0953   0.24717 28.65956 25.37023 26.04511 27.28839 26.54573 25.26505\n",
      " 21.61785 28.72064 24.03281  3.63978 23.03312 27.86513 25.75394  1.60765\n",
      " 19.13559 20.03306 21.69457 21.16299 19.04017 15.05141 22.09683 26.33145\n",
      " 33.84118 19.0828  37.84122 25.34769 26.36027 18.22329 22.49803 31.02925\n",
      " 18.63404 29.61728 22.56445 28.00242 23.16129 21.60464 21.6061  -5.96158\n",
      " 11.35376 20.27022 34.12323 24.02506 21.02567 28.31421 17.94959 17.46788\n",
      " 12.83741 38.89079 22.67769 23.78387 15.30621 22.71557 11.24473]\n"
     ]
    }
   ],
   "source": [
    "from sklearn.linear_model import Ridge\n",
    "import numpy as np\n",
    "import pandas as pd\n",
    "data=np.genfromtxt(\"0000000000002417_training_boston_x_y_train.csv\", delimiter=\",\")\n",
    "df = pd.DataFrame(data[:,0:13])\n",
    "\n",
    "for i in range(13):\n",
    "    x = df.iloc[:,i]\n",
    "    df[str(i)]=x**2\n",
    "    \n",
    "Y_train = data[:,13]\n",
    "datacopy = df.values\n",
    "data1=np.genfromtxt(\"0000000000002417_test_boston_x_test.csv\", delimiter=\",\")\n",
    "alg1 = Ridge(alpha=0.1)\n",
    "alg1.fit(datacopy,Y_train)\n",
    "\n",
    "df1 = pd.DataFrame(data1)\n",
    "for i in range(13):\n",
    "    x = df.iloc[:,i]\n",
    "    df1[str(i)]=x**2\n",
    "    \n",
    "data1 = df1.values    \n",
    "#print(data1)\n",
    "\n",
    "y_pred = alg1.predict(data1)\n",
    "y_pred = np.around(y_pred,decimals=5)\n",
    "np.savetxt(\"correctPrediction.csv\",y_pred,delimiter=',')\n",
    "print(y_pred)\n"
   ]
  },
  {
   "cell_type": "code",
   "execution_count": null,
   "metadata": {},
   "outputs": [],
   "source": []
  }
 ],
 "metadata": {
  "kernelspec": {
   "display_name": "Python 3",
   "language": "python",
   "name": "python3"
  },
  "language_info": {
   "codemirror_mode": {
    "name": "ipython",
    "version": 3
   },
   "file_extension": ".py",
   "mimetype": "text/x-python",
   "name": "python",
   "nbconvert_exporter": "python",
   "pygments_lexer": "ipython3",
   "version": "3.6.4"
  }
 },
 "nbformat": 4,
 "nbformat_minor": 2
}
