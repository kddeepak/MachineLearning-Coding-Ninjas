{
 "cells": [
  {
   "cell_type": "markdown",
   "metadata": {},
   "source": [
    "# Naive Bayes"
   ]
  },
  {
   "cell_type": "code",
   "execution_count": 8,
   "metadata": {},
   "outputs": [],
   "source": [
    "import numpy as np\n",
    "import pandas as pd"
   ]
  },
  {
   "cell_type": "code",
   "execution_count": 20,
   "metadata": {},
   "outputs": [],
   "source": [
    "def fit(X_train,Y_train):\n",
    "    result = {}\n",
    "    result[\"total_data\"] = len(Y_train)\n",
    "    class_value = set(Y_train)\n",
    "    for current_class in class_value:\n",
    "        result[current_class] ={}\n",
    "        current_class_rows = (Y_train == current_class)#this will give a true false(1 or 0) value np array as o/p\n",
    "        X_train_current = X_train[current_class_rows]#this will get u all the rows of the current class\n",
    "        num_features = X_train.shape[1]\n",
    "        result[current_class][\"total_count\"] = current_class_row.sum()\n",
    "        for j in range(1,num_features+1):\n",
    "            result[current_class][j]={}\n",
    "            all_possible_values = set(X_train[:,j])\n",
    "           # result[current_class][j][\"distint_features\"] = len(all_possible_values)\n",
    "            for current_value in all_possible_values:\n",
    "                result[current_class][j][current_value] = (X_train_current[:,j]==current_value).sum()\n",
    "                \n",
    "                \n",
    "    return result\n",
    "            "
   ]
  },
  {
   "cell_type": "code",
   "execution_count": 21,
   "metadata": {},
   "outputs": [],
   "source": [
    "def probability(dictionary,x,current_class):\n",
    "    probability_current_class = dictionary[current_class][\"total_count\"]/dictionary[\"total_data\"]\n",
    "    output = output*probabilty_current_class\n",
    "    num_features = len(dictionary[current_class].keys())-1\n",
    "    for j in range(1,num_features+1):\n",
    "        xj = x[j]\n",
    "        count_current_class_with_value_xj = dictionary[current_class][j][xj]+1\n",
    "        count_current_class = dictionary[current_class][\"total_count\"]+ len(dictionary[current_class][j].keys())\n",
    "        output = output*(count_current_class_with_value_xj/count_current_class)\n",
    "    return output\n",
    "    \n",
    "    \n",
    "    \n",
    "    "
   ]
  },
  {
   "cell_type": "code",
   "execution_count": 22,
   "metadata": {},
   "outputs": [],
   "source": [
    "def predictSinglePoint(dictionary,x):\n",
    "    classes = dictionary.keys()\n",
    "    best_p = -1000\n",
    "    best_class = -1\n",
    "    first_run = True\n",
    "    for current_class in classes:\n",
    "        p_current_class = probability(dictionary,x,current_class)\n",
    "        if (first_run == True or p_current>best_p):\n",
    "            best_p = p_current\n",
    "            best_class = current_class\n",
    "        first_run = False    \n",
    "    return best_class\n",
    "            "
   ]
  },
  {
   "cell_type": "code",
   "execution_count": 23,
   "metadata": {},
   "outputs": [],
   "source": [
    "def predict(dictionary,X_test):\n",
    "    y_pred = []\n",
    "    for x in X_test:\n",
    "        x_class = predictSinglePoint(dictionary,x)\n",
    "        y_pred.append(x_class)\n",
    "    return y_pred\n",
    "        \n",
    "        \n",
    "    "
   ]
  }
 ],
 "metadata": {
  "kernelspec": {
   "display_name": "Python 3",
   "language": "python",
   "name": "python3"
  },
  "language_info": {
   "codemirror_mode": {
    "name": "ipython",
    "version": 3
   },
   "file_extension": ".py",
   "mimetype": "text/x-python",
   "name": "python",
   "nbconvert_exporter": "python",
   "pygments_lexer": "ipython3",
   "version": "3.6.4"
  }
 },
 "nbformat": 4,
 "nbformat_minor": 2
}
