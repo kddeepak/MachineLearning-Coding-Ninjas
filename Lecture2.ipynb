{
 "cells": [
  {
   "cell_type": "code",
   "execution_count": 2,
   "metadata": {},
   "outputs": [
    {
     "name": "stdout",
     "output_type": "stream",
     "text": [
      "yes\n"
     ]
    }
   ],
   "source": [
    "x = 10\n",
    "y=5\n",
    "if x>y:\n",
    "    print(\"yes\")\n",
    "else:\n",
    "    print(\"NO\")"
   ]
  },
  {
   "cell_type": "code",
   "execution_count": 7,
   "metadata": {},
   "outputs": [
    {
     "name": "stdout",
     "output_type": "stream",
     "text": [
      "B\n"
     ]
    }
   ],
   "source": [
    "if True or True:\n",
    "    if False and True or False:\n",
    "        print('A')\n",
    "    elif False and False or True and True:\n",
    "        print('B')\n",
    "    else:\n",
    "        print('C')\n",
    "else:\n",
    "     print('D')"
   ]
  },
  {
   "cell_type": "code",
   "execution_count": 11,
   "metadata": {},
   "outputs": [
    {
     "name": "stdout",
     "output_type": "stream",
     "text": [
      "1\n",
      "1 \n",
      "done\n"
     ]
    }
   ],
   "source": [
    "n = int(input())\n",
    "i=1\n",
    "while i<=n:\n",
    "    print(i,end=' ')\n",
    "    i=i+1\n",
    "print()\n",
    "print(\"done\")"
   ]
  },
  {
   "cell_type": "code",
   "execution_count": 15,
   "metadata": {},
   "outputs": [
    {
     "name": "stdout",
     "output_type": "stream",
     "text": [
      "<class 'range'>\n"
     ]
    }
   ],
   "source": [
    "print(type(range(1,10)))\n"
   ]
  },
  {
   "cell_type": "code",
   "execution_count": 20,
   "metadata": {},
   "outputs": [
    {
     "name": "stdout",
     "output_type": "stream",
     "text": [
      "1 3 5 7 9 11 "
     ]
    }
   ],
   "source": [
    "for i in range(1,12,2):\n",
    "    print(i,end=' ')"
   ]
  },
  {
   "cell_type": "code",
   "execution_count": 28,
   "metadata": {},
   "outputs": [
    {
     "name": "stdout",
     "output_type": "stream",
     "text": [
      "1 deepak 3 "
     ]
    }
   ],
   "source": [
    "#fast iteration\n",
    "s=(1,\"deepak\",3)\n",
    "for c in s:\n",
    "    print(c,end=' ')"
   ]
  },
  {
   "cell_type": "code",
   "execution_count": 38,
   "metadata": {},
   "outputs": [
    {
     "name": "stdout",
     "output_type": "stream",
     "text": [
      "abcd\n",
      "abcd\n",
      "abcd\n",
      "abcd\n",
      "abcd\n"
     ]
    }
   ],
   "source": [
    "x = 'abcd'\n",
    "n=5\n",
    "for i in range(n):#the range value is set once and can't be changed during the execution of the loop.\n",
    "   print(x)\n",
    "   n=2"
   ]
  },
  {
   "cell_type": "code",
   "execution_count": 40,
   "metadata": {},
   "outputs": [
    {
     "name": "stdout",
     "output_type": "stream",
     "text": [
      "5\n",
      "4\n",
      "3\n",
      "2\n",
      "1\n"
     ]
    }
   ],
   "source": [
    "for j in range(5,0,-1):\n",
    "    print(j)"
   ]
  },
  {
   "cell_type": "code",
   "execution_count": 55,
   "metadata": {},
   "outputs": [
    {
     "name": "stdout",
     "output_type": "stream",
     "text": [
      "9\n",
      "1                1\n",
      "12              21\n",
      "123            321\n",
      "1234          4321\n",
      "12345        54321\n",
      "123456      654321\n",
      "1234567    7654321\n",
      "12345678  87654321\n",
      "123456789987654321\n"
     ]
    }
   ],
   "source": [
    "n = int(input())\n",
    "for i in range(1,n+1):\n",
    "      for j in range(1,n+1):\n",
    "        if j<=i:\n",
    "            print(j,end='')\n",
    "    \t\n",
    "        else:\n",
    "            print(end=' ')\n",
    "      for j in range(n,0,-1):\n",
    "        if j<=i:\n",
    "            print(j,end='')\n",
    "        else:\n",
    "            print(end=' ')\n",
    "      print()      "
   ]
  },
  {
   "cell_type": "code",
   "execution_count": 58,
   "metadata": {},
   "outputs": [
    {
     "name": "stdout",
     "output_type": "stream",
     "text": [
      "fds\n",
      "['fds']\n"
     ]
    }
   ],
   "source": [
    "n = input().split()\n",
    "print(n)"
   ]
  },
  {
   "cell_type": "code",
   "execution_count": 60,
   "metadata": {},
   "outputs": [
    {
     "name": "stdout",
     "output_type": "stream",
     "text": [
      "1000\n",
      "0001 "
     ]
    }
   ],
   "source": [
    "n = input().split()\n",
    "\n",
    "for i in n:\n",
    "  print(i[::-1],end=' ')"
   ]
  },
  {
   "cell_type": "code",
   "execution_count": 66,
   "metadata": {},
   "outputs": [
    {
     "data": {
      "text/plain": [
       "10000"
      ]
     },
     "execution_count": 66,
     "metadata": {},
     "output_type": "execute_result"
    }
   ],
   "source": [
    "def power(x,y=2):#if not provided uses the default value otherwise the provided value\n",
    "    return x**y\n",
    "power(2,3)\n",
    "power(100)"
   ]
  },
  {
   "cell_type": "code",
   "execution_count": 71,
   "metadata": {},
   "outputs": [
    {
     "name": "stdout",
     "output_type": "stream",
     "text": [
      "13\n"
     ]
    }
   ],
   "source": [
    "def sum(a=1,b=1,c=2):\n",
    "    return a+b+c\n",
    "print(sum(b=10))#we can specify the value for a argument ex ->end =' '\n",
    "\n"
   ]
  },
  {
   "cell_type": "code",
   "execution_count": 84,
   "metadata": {},
   "outputs": [
    {
     "name": "stdout",
     "output_type": "stream",
     "text": [
      "21\n",
      "(22, -2, 120) fuck\n"
     ]
    }
   ],
   "source": [
    "#variable number of inputs to a function\n",
    "#all the excessive inputs provided can be saved in a tuple\n",
    "def sum_variable(a,b,*more):\n",
    "       ans=a+b\n",
    "       for i in more:\n",
    "            ans +=i\n",
    "       print(ans)     \n",
    "sum_variable(1,2,3,4,5,6)\n",
    "print(a)"
   ]
  },
  {
   "cell_type": "code",
   "execution_count": 83,
   "metadata": {},
   "outputs": [
    {
     "name": "stdout",
     "output_type": "stream",
     "text": [
      "12 8 20\n",
      "22\n"
     ]
    }
   ],
   "source": [
    "#function wants to return more than 1 value\n",
    "\n",
    "def dummy(a,b):\n",
    "    return a+b,a-b,a*b\n",
    "\n",
    "sum,sub,pro = dummy(10,2)\n",
    "print(sum,sub,pro)\n",
    "\n",
    "a= dummy(10,12)\n",
    "print(a[0])"
   ]
  },
  {
   "cell_type": "code",
   "execution_count": 87,
   "metadata": {},
   "outputs": [
    {
     "name": "stdout",
     "output_type": "stream",
     "text": [
      "4  is maximum\n"
     ]
    }
   ],
   "source": [
    "def printMax(a, b):\n",
    "    if a > b:\n",
    "       print(a, ' is maximum')\n",
    "    elif a == b:\n",
    "       print(a,  'is equal to', b)\n",
    "    else:\n",
    "      print(b, ' is maximum')\n",
    "printMax(3, 4)"
   ]
  },
  {
   "cell_type": "code",
   "execution_count": 97,
   "metadata": {},
   "outputs": [
    {
     "name": "stdout",
     "output_type": "stream",
     "text": [
      "67\n",
      "44\n"
     ]
    }
   ],
   "source": [
    "\n",
    "n = int(input())\n",
    "\n",
    "x,y= 2,8\n",
    "\n",
    "sum=0\n",
    "while x<=n:\n",
    "  sum+=x\n",
    "  temp = y\n",
    "  y = y*4+x\n",
    "  x=temp\n",
    "print(sum)  "
   ]
  },
  {
   "cell_type": "code",
   "execution_count": 110,
   "metadata": {},
   "outputs": [
    {
     "name": "stdout",
     "output_type": "stream",
     "text": [
      "8\n",
      "1 \n",
      "3 2 \n",
      "4 5 6 \n",
      "10 9 8 7 \n",
      "11 12 13 14 15 \n",
      "21 20 19 18 17 16 \n",
      "22 23 24 25 26 27 28 \n",
      "36 35 34 33 32 31 30 29 \n"
     ]
    }
   ],
   "source": [
    "n = int(input())\n",
    "x=1\n",
    "for i in range(1,n+1):\n",
    "    temp=0\n",
    "    if i%2==0:\n",
    "        x+=i\n",
    "        temp=x\n",
    "   \n",
    "    for j in range(i):\n",
    "        if i%2==0:\n",
    "            print(x,end=' ')\n",
    "            x-=1\n",
    "        else:\n",
    "            print(x,end=' ')\n",
    "            x+=1\n",
    "    if(i%2!=0):\n",
    "        x-=1\n",
    "    else:\n",
    "        x=temp+1\n",
    "        \n",
    "            \n",
    "        \n",
    "    print()  "
   ]
  },
  {
   "cell_type": "code",
   "execution_count": 118,
   "metadata": {},
   "outputs": [
    {
     "name": "stdout",
     "output_type": "stream",
     "text": [
      "4\n",
      "100\n"
     ]
    }
   ],
   "source": [
    "n = int(input())\n",
    "\n",
    "ans =\"\"\n",
    "while n!=0:\n",
    "  temp = n%2\n",
    "  n = n//2\n",
    "  ans +=str(temp)\n",
    "  \n",
    "print(ans[::-1])  "
   ]
  },
  {
   "cell_type": "code",
   "execution_count": 123,
   "metadata": {},
   "outputs": [
    {
     "name": "stdout",
     "output_type": "stream",
     "text": [
      "10\n"
     ]
    }
   ],
   "source": [
    "import math\n",
    "\n",
    "print(int(math.sqrt(101)))"
   ]
  },
  {
   "cell_type": "code",
   "execution_count": 135,
   "metadata": {},
   "outputs": [
    {
     "name": "stdout",
     "output_type": "stream",
     "text": [
      "6\n",
      "2\n",
      "3\n",
      "5\n"
     ]
    }
   ],
   "source": [
    "#can use sieve of erthanosis or segmented sieve  for larger values but here values are very small so just brute force\n",
    "import math\n",
    "n = int(input())\n",
    "\n",
    "l =[]\n",
    "\n",
    "for i in range(101):\n",
    "  l.append(1)\n",
    "  \n",
    "for i in range(2,int(math.sqrt(101))+1):  \n",
    "  if l[i]==1:\n",
    "    for j in range(2*i,101,i):\n",
    "      l[j]=0\n",
    "sum=0   \n",
    "for i in range(2,len(l)):\n",
    "  if l[i]==1 and i<=n:\n",
    "    print(i)\n",
    "   "
   ]
  },
  {
   "cell_type": "code",
   "execution_count": 136,
   "metadata": {},
   "outputs": [
    {
     "name": "stdout",
     "output_type": "stream",
     "text": [
      "50\n",
      "12\n"
     ]
    }
   ],
   "source": [
    "#so as  to count the trailing zeros we just need to do prime factor of the numbers and count the pairs of 5and2 possible.\n",
    "import math\n",
    "n = int(input())\n",
    "\n",
    "\n",
    "def zeros(n):\n",
    "    count = 0\n",
    "    i=5\n",
    "    while (n/i>=1):\n",
    "        count += int(n/i)\n",
    "        i *= 5\n",
    " \n",
    "    return int(count)\n",
    "\n",
    "\n",
    "print(zeros(n))"
   ]
  }
 ],
 "metadata": {
  "kernelspec": {
   "display_name": "Python 3",
   "language": "python",
   "name": "python3"
  },
  "language_info": {
   "codemirror_mode": {
    "name": "ipython",
    "version": 3
   },
   "file_extension": ".py",
   "mimetype": "text/x-python",
   "name": "python",
   "nbconvert_exporter": "python",
   "pygments_lexer": "ipython3",
   "version": "3.6.4"
  }
 },
 "nbformat": 4,
 "nbformat_minor": 2
}
