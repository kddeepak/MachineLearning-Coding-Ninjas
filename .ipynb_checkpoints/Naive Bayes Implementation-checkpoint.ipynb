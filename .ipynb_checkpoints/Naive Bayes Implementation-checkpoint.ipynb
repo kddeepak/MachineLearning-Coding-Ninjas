{
 "cells": [
  {
   "cell_type": "markdown",
   "metadata": {},
   "source": [
    "# Naive Bayes"
   ]
  },
  {
   "cell_type": "code",
   "execution_count": 5,
   "metadata": {},
   "outputs": [],
   "source": [
    "import numpy as np\n",
    "import pandas as pd"
   ]
  },
  {
   "cell_type": "code",
   "execution_count": 20,
   "metadata": {},
   "outputs": [],
   "source": [
    "def fit(X_train,Y_train):\n",
    "    result = {}\n",
    "    result[\"total_data\"] = len(Y_train)\n",
    "    class_value = set(Y_train)\n",
    "    for current_class in class_value:\n",
    "        result[current_class] ={}\n",
    "        current_class_rows = (Y_train == current_class)#this will give a true false(1 or 0) value np array as o/p\n",
    "        X_train_current = X_train[current_class_rows]#this will get u all the rows of the current class\n",
    "        num_features = X_train.shape[1]\n",
    "        result[current_class][\"total_count\"] = current_class_rows.sum()\n",
    "        for j in range(1,num_features+1):\n",
    "            \n",
    "            result[current_class][j-1]={}\n",
    "            all_possible_values = set(X_train[:,j-1])\n",
    "           # result[current_class][j][\"distint_features\"] = len(all_possible_values)\n",
    "            for current_value in all_possible_values:\n",
    "                result[current_class][j-1][current_value] = (X_train_current[:,j-1]==current_value).sum()\n",
    "                \n",
    "                \n",
    "    return result\n",
    "            "
   ]
  },
  {
   "cell_type": "code",
   "execution_count": 25,
   "metadata": {},
   "outputs": [],
   "source": [
    "def probability(dictionary,x,current_class):\n",
    "    output =np.log(dictionary[current_class][\"total_count\"])-np.log(dictionary[\"total_data\"])\n",
    "    \n",
    "    num_features = len(dictionary[current_class].keys())-1\n",
    "    for j in range(1,num_features+1):\n",
    "        xj = x[j-1]\n",
    "        count_current_class_with_value_xj = dictionary[current_class][j-1][xj]+1\n",
    "        count_current_class = dictionary[current_class][\"total_count\"]+ len(dictionary[current_class][j-1].keys())\n",
    "        output = output+(np.log(count_current_class_with_value_xj)-np.log(count_current_class))\n",
    "    return output\n",
    "    \n",
    "    \n",
    "    \n",
    "    "
   ]
  },
  {
   "cell_type": "code",
   "execution_count": 31,
   "metadata": {},
   "outputs": [],
   "source": [
    "def predictSinglePoint(dictionary,x):\n",
    "    classes = dictionary.keys()\n",
    "    best_p = -1000\n",
    "    best_class = -1\n",
    "    first_run = True\n",
    "    for current_class in classes:\n",
    "        if current_class == \"total_data\":\n",
    "            continue\n",
    "        p_current_class = probability(dictionary,x,current_class)\n",
    "        if (first_run == True or p_current_class>best_p):\n",
    "            best_p = p_current_class\n",
    "            best_class = current_class\n",
    "        first_run = False    \n",
    "    return best_class\n",
    "            "
   ]
  },
  {
   "cell_type": "code",
   "execution_count": 9,
   "metadata": {},
   "outputs": [],
   "source": [
    "def predict(dictionary,X_test):\n",
    "    y_pred = []\n",
    "    for x in X_test:\n",
    "        x_class = predictSinglePoint(dictionary,x)\n",
    "        y_pred.append(x_class)\n",
    "    return y_pred\n",
    "        \n",
    "        \n",
    "    "
   ]
  },
  {
   "cell_type": "code",
   "execution_count": 14,
   "metadata": {},
   "outputs": [],
   "source": [
    "def makeLabelled(column):\n",
    "    second_limit = column.mean()\n",
    "    first_limit = 0.5 * second_limit\n",
    "    third_limit = 1.5*second_limit\n",
    "    for i in range(len(column)):\n",
    "        if column[i]<first_limit:\n",
    "            column[i]=0\n",
    "        elif column[i]<second_limit:\n",
    "            column[i]=1\n",
    "        elif column[i]<third_limit:\n",
    "            column[i]=2 \n",
    "        else:\n",
    "            column[i]=3\n",
    "                \n",
    "            \n",
    "    return column\n",
    "            \n",
    "    "
   ]
  },
  {
   "cell_type": "code",
   "execution_count": 12,
   "metadata": {},
   "outputs": [],
   "source": [
    "from sklearn import datasets\n",
    "iris = datasets.load_iris()\n",
    "X=iris.data\n",
    "Y=iris.target\n"
   ]
  },
  {
   "cell_type": "code",
   "execution_count": 15,
   "metadata": {},
   "outputs": [],
   "source": [
    "for i in range(X.shape[-1]):\n",
    "    X[:,i]= makeLabelled(X[:,i])"
   ]
  },
  {
   "cell_type": "code",
   "execution_count": 16,
   "metadata": {},
   "outputs": [],
   "source": [
    "from sklearn import model_selection\n",
    "X_train,X_test,Y_train,Y_test = model_selection.train_test_split(X,Y,test_size=0.25,random_state=0)"
   ]
  },
  {
   "cell_type": "code",
   "execution_count": 22,
   "metadata": {},
   "outputs": [],
   "source": [
    "dictionary = fit(X_train,Y_train)"
   ]
  },
  {
   "cell_type": "code",
   "execution_count": 34,
   "metadata": {},
   "outputs": [],
   "source": [
    "Y_pred = predict(dictionary,X_test)\n",
    "#Y_pred"
   ]
  },
  {
   "cell_type": "code",
   "execution_count": 35,
   "metadata": {},
   "outputs": [
    {
     "name": "stdout",
     "output_type": "stream",
     "text": [
      "             precision    recall  f1-score   support\n",
      "\n",
      "          0       1.00      1.00      1.00        13\n",
      "          1       0.94      1.00      0.97        16\n",
      "          2       1.00      0.89      0.94         9\n",
      "\n",
      "avg / total       0.98      0.97      0.97        38\n",
      "\n",
      "[[13  0  0]\n",
      " [ 0 16  0]\n",
      " [ 0  1  8]]\n"
     ]
    }
   ],
   "source": [
    "from sklearn.metrics import classification_report ,confusion_matrix\n",
    "print(classification_report(Y_test,Y_pred))\n",
    "print(confusion_matrix(Y_test,Y_pred))"
   ]
  }
 ],
 "metadata": {
  "kernelspec": {
   "display_name": "Python 3",
   "language": "python",
   "name": "python3"
  },
  "language_info": {
   "codemirror_mode": {
    "name": "ipython",
    "version": 3
   },
   "file_extension": ".py",
   "mimetype": "text/x-python",
   "name": "python",
   "nbconvert_exporter": "python",
   "pygments_lexer": "ipython3",
   "version": "3.6.4"
  }
 },
 "nbformat": 4,
 "nbformat_minor": 2
}
