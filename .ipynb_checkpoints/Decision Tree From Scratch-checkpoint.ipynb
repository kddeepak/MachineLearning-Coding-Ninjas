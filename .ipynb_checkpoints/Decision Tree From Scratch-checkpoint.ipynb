{
 "cells": [
  {
   "cell_type": "markdown",
   "metadata": {},
   "source": [
    "# Decision Tree "
   ]
  },
  {
   "cell_type": "code",
   "execution_count": 13,
   "metadata": {},
   "outputs": [],
   "source": [
    "from sklearn import datasets\n",
    "from sklearn.model_selection import train_test_split\n",
    "import pandas as pd\n",
    "import numpy as np"
   ]
  },
  {
   "cell_type": "code",
   "execution_count": 14,
   "metadata": {},
   "outputs": [],
   "source": [
    "iris = datasets.load_iris()\n"
   ]
  },
  {
   "cell_type": "code",
   "execution_count": 63,
   "metadata": {},
   "outputs": [
    {
     "name": "stdout",
     "output_type": "stream",
     "text": [
      "   index   0\n",
      "0      2  39\n",
      "1      0  38\n",
      "2      1  35\n"
     ]
    }
   ],
   "source": [
    "x_train,x_test,y_train,y_test = train_test_split(iris.data,iris.target)\n",
    "df = pd.DataFrame(y_train)\n",
    "features = iris.feature_names\n",
    "\n",
    "#z=set(y_train)\n",
    "#count= (df[0]).value_counts().reset_index()\n",
    "#print(count)\n",
    "#print(features)\n",
    "#print(df)"
   ]
  },
  {
   "cell_type": "code",
   "execution_count": 7,
   "metadata": {},
   "outputs": [
    {
     "ename": "SyntaxError",
     "evalue": "invalid syntax (<ipython-input-7-8bbdde897281>, line 1)",
     "output_type": "error",
     "traceback": [
      "\u001b[1;36m  File \u001b[1;32m\"<ipython-input-7-8bbdde897281>\"\u001b[1;36m, line \u001b[1;32m1\u001b[0m\n\u001b[1;33m    def dt(x_train,y_train,)\u001b[0m\n\u001b[1;37m                            ^\u001b[0m\n\u001b[1;31mSyntaxError\u001b[0m\u001b[1;31m:\u001b[0m invalid syntax\n"
     ]
    }
   ],
   "source": [
    "def gain(x_train,y_train,classes,s_feature):\n",
    "    parent_entropy =0\n",
    "    df = pd.DataFrame()\n",
    "    count_parent = df[0].value_counts().reset_index()\n",
    "    for i in range(len(count_parent\n",
    "    \n",
    "    \n",
    "    \n",
    "def entropy(x_train,y_train,s_feature)\n",
    "    \n",
    "    \n",
    "    \n",
    "    \n",
    "def gain_ratio(x_train,y_train,s_feature):#s_feature means selected_feature\n",
    "    classes = set(x_train[:,s_feature])\n",
    "    \n",
    "    return gain(x_train,y_train,classes,s_feature)/spilt_info()\n",
    "    \n",
    "def dt(x_train,y_train,features):#decision tree\n",
    "    if(len(features)==0):\n",
    "        #printing the values\n",
    "    for i in features:\n",
    "        mx = -1\n",
    "        feature_name = \"none\"\n",
    "        temp=gain_ratio(x_train,y_train,i)# here i is the selected feature\n",
    "        if temp>mx:\n",
    "            mx = temp\n",
    "            feature_name = i\n",
    "    \n",
    "    \n",
    "    "
   ]
  }
 ],
 "metadata": {
  "kernelspec": {
   "display_name": "Python 3",
   "language": "python",
   "name": "python3"
  },
  "language_info": {
   "codemirror_mode": {
    "name": "ipython",
    "version": 3
   },
   "file_extension": ".py",
   "mimetype": "text/x-python",
   "name": "python",
   "nbconvert_exporter": "python",
   "pygments_lexer": "ipython3",
   "version": "3.6.4"
  }
 },
 "nbformat": 4,
 "nbformat_minor": 2
}
