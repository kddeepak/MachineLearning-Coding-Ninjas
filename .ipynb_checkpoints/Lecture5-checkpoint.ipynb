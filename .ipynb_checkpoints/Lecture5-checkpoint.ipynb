{
 "cells": [
  {
   "cell_type": "markdown",
   "metadata": {},
   "source": [
    "# 2d array and NUMPY"
   ]
  },
  {
   "cell_type": "code",
   "execution_count": 4,
   "metadata": {},
   "outputs": [
    {
     "name": "stdout",
     "output_type": "stream",
     "text": [
      "1 1\n",
      "1\n"
     ]
    },
    {
     "data": {
      "text/plain": [
       "[[1]]"
      ]
     },
     "execution_count": 4,
     "metadata": {},
     "output_type": "execute_result"
    }
   ],
   "source": [
    "#Creation of 2-d array \n",
    "str = input().split()\n",
    "n=int(str[0])\n",
    "m=int(str[1])\n",
    "\n",
    "l = input().split()\n",
    "\n",
    "a2d = [[int(l[i*m+j]) for j in range(m)] for i in range(n)]\n",
    "\n",
    "a2d"
   ]
  },
  {
   "cell_type": "code",
   "execution_count": 22,
   "metadata": {},
   "outputs": [
    {
     "name": "stdout",
     "output_type": "stream",
     "text": [
      "(2,)\n",
      "1.4142135623730951\n"
     ]
    },
    {
     "data": {
      "text/plain": [
       "18"
      ]
     },
     "execution_count": 22,
     "metadata": {},
     "output_type": "execute_result"
    }
   ],
   "source": [
    "#numpy\n",
    "import numpy as np\n",
    "import math\n",
    "a =np.array([2,3])\n",
    "b =np.array([3,4])\n",
    "\n",
    "c =a+b\n",
    "print(a.shape)\n",
    "#print(c)\n",
    "\n",
    "d = math.sqrt(((a-b)**2).sum())#finding square distance from mean and all......\n",
    "print(d)\n",
    "o1=np.ones((2,3,4))\n",
    "o1.shape\n",
    "\n",
    "#dot\n",
    "\n",
    "a.dot(b)\n"
   ]
  }
 ],
 "metadata": {
  "kernelspec": {
   "display_name": "Python 3",
   "language": "python",
   "name": "python3"
  },
  "language_info": {
   "codemirror_mode": {
    "name": "ipython",
    "version": 3
   },
   "file_extension": ".py",
   "mimetype": "text/x-python",
   "name": "python",
   "nbconvert_exporter": "python",
   "pygments_lexer": "ipython3",
   "version": "3.6.4"
  }
 },
 "nbformat": 4,
 "nbformat_minor": 2
}
