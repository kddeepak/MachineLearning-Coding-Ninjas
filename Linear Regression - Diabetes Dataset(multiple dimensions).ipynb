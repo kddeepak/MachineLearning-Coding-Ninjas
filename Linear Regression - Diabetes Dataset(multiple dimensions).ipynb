{
 "cells": [
  {
   "cell_type": "code",
   "execution_count": 13,
   "metadata": {},
   "outputs": [],
   "source": [
    "import numpy as np\n"
   ]
  },
  {
   "cell_type": "code",
   "execution_count": 14,
   "metadata": {},
   "outputs": [],
   "source": [
    "training_data = np.genfromtxt('F:\\\\rise\\\\MLcodingNinjasCourse\\\\dataSets\\\\training_diabetes_x_y_train.csv',delimiter=',')\n",
    "test_data = np.genfromtxt('test_diabetes_x_test.csv',delimiter=',')"
   ]
  },
  {
   "cell_type": "code",
   "execution_count": 15,
   "metadata": {},
   "outputs": [],
   "source": [
    "x_train= training_data[:,0:10]#loading the training data\n",
    "y_train = training_data[:,10]\n",
    "x_test = test_data[:,:]"
   ]
  },
  {
   "cell_type": "code",
   "execution_count": 17,
   "metadata": {},
   "outputs": [],
   "source": [
    "from sklearn.linear_model import LinearRegression\n",
    "alg1 = LinearRegression()\n",
    "alg1.fit(x_train,y_train)\n",
    "\n",
    "m = alg1.coef_[0]\n",
    "c = alg1.intercept_\n",
    "y_predicted=alg1.predict(x_test)\n",
    "#y_predicted = m*x_test+c\n",
    "y_predicted = np.around(y_predicted,decimals=5)\n",
    "np.savetxt('masti_me_predicted.csv',y_predicted, delimiter=',')\n",
    "#y_predicted"
   ]
  }
 ],
 "metadata": {
  "kernelspec": {
   "display_name": "Python 3",
   "language": "python",
   "name": "python3"
  },
  "language_info": {
   "codemirror_mode": {
    "name": "ipython",
    "version": 3
   },
   "file_extension": ".py",
   "mimetype": "text/x-python",
   "name": "python",
   "nbconvert_exporter": "python",
   "pygments_lexer": "ipython3",
   "version": "3.6.4"
  }
 },
 "nbformat": 4,
 "nbformat_minor": 2
}
