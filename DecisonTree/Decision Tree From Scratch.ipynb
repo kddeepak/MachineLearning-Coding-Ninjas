{
 "cells": [
  {
   "cell_type": "markdown",
   "metadata": {},
   "source": [
    "# Decision Tree "
   ]
  },
  {
   "cell_type": "code",
   "execution_count": 1,
   "metadata": {},
   "outputs": [],
   "source": [
    "from sklearn import datasets\n",
    "from sklearn.model_selection import train_test_split\n",
    "import pandas as pd\n",
    "import numpy as np\n",
    "import math "
   ]
  },
  {
   "cell_type": "code",
   "execution_count": 9,
   "metadata": {},
   "outputs": [],
   "source": [
    "iris = datasets.load_iris()\n",
    "#iris"
   ]
  },
  {
   "cell_type": "code",
   "execution_count": 12,
   "metadata": {},
   "outputs": [
    {
     "name": "stdout",
     "output_type": "stream",
     "text": [
      "{0, 1, 2}\n",
      "5.0\n"
     ]
    }
   ],
   "source": [
    "x_train,x_test,y_train,y_test = train_test_split(iris.data,iris.target)\n",
    "df = pd.DataFrame(x_train)\n",
    "features = iris.feature_names\n",
    "\n",
    "z=set(y_train)\n",
    "print(z)\n",
    "count= (df[0]).value_counts().reset_index()\n",
    "print(count['index'][0])\n",
    "#print(count['index'][0])\n",
    "#print(count[0])\n",
    "#print(sum(count[0]))\n",
    "#print(features)\n",
    "#print(df.head())\n",
    "#len(df)\n",
    "#x_train\n",
    "#df.head()"
   ]
  },
  {
   "cell_type": "code",
   "execution_count": 4,
   "metadata": {},
   "outputs": [
    {
     "ename": "IndentationError",
     "evalue": "expected an indented block (<ipython-input-4-ac80a7c3786d>, line 32)",
     "output_type": "error",
     "traceback": [
      "\u001b[1;36m  File \u001b[1;32m\"<ipython-input-4-ac80a7c3786d>\"\u001b[1;36m, line \u001b[1;32m32\u001b[0m\n\u001b[1;33m    for i in range(len(features)):\u001b[0m\n\u001b[1;37m      ^\u001b[0m\n\u001b[1;31mIndentationError\u001b[0m\u001b[1;31m:\u001b[0m expected an indented block\n"
     ]
    }
   ],
   "source": [
    "def gain(x_train,y_train,classes,s_feature_index,features):\n",
    "    parent_entropy =0\n",
    "    df = pd.DataFrame(y_train)\n",
    "    count_parent = df[0].value_counts().reset_index()\n",
    "    l = len(df)\n",
    "    sm = sum(count_parent[0])\n",
    "    for i in range(len(count_parent)):\n",
    "        parent_entropy += (-count_parent[0][i]/sm)*(math.log(count_parent[0][i]/sm),2)\n",
    "        \n",
    "    df2 = pd.DataFrame(x_train)\n",
    "    count_children = df[s_feature_index].value_counts().reset_index()\n",
    "    \n",
    "    for i in range(len(count_children)):\n",
    "        tempframe = (df2[df2[s_feature_index]==count_children['index'][i]])\n",
    "        \n",
    "    \n",
    "    \n",
    "    \n",
    "#def entropy(x_train,y_train,s_feature)\n",
    "    \n",
    "    \n",
    "    \n",
    "    \n",
    "def gain_ratio(x_train,y_train,s_feature):#s_feature means selected_feature\n",
    "    classes = set(x_train[:,s_feature])\n",
    "    \n",
    "    return gain(x_train,y_train,classes,s_feature)\n",
    "    \n",
    "def dt(x_train,y_train,features):#decision tree\n",
    "    if(len(features)==0):\n",
    "        #printing the values\n",
    "    for i in range(len(features)):\n",
    "        mx = -1\n",
    "        feature_indx = 0\n",
    "        temp=gain_ratio(x_train,y_train,i,features)# here i is the selected feature\n",
    "        if temp>mx:\n",
    "            mx = temp\n",
    "            feature_indx = i\n",
    "    \n",
    "    \n",
    "    "
   ]
  },
  {
   "cell_type": "code",
   "execution_count": null,
   "metadata": {},
   "outputs": [],
   "source": []
  }
 ],
 "metadata": {
  "kernelspec": {
   "display_name": "Python 3",
   "language": "python",
   "name": "python3"
  },
  "language_info": {
   "codemirror_mode": {
    "name": "ipython",
    "version": 3
   },
   "file_extension": ".py",
   "mimetype": "text/x-python",
   "name": "python",
   "nbconvert_exporter": "python",
   "pygments_lexer": "ipython3",
   "version": "3.6.4"
  }
 },
 "nbformat": 4,
 "nbformat_minor": 2
}
