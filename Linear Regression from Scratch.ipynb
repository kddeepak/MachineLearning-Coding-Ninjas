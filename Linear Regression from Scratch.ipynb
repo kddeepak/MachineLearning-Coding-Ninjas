{
 "cells": [
  {
   "cell_type": "markdown",
   "metadata": {},
   "source": [
    "# Linear Regression Pure Implementation"
   ]
  },
  {
   "cell_type": "code",
   "execution_count": 1,
   "metadata": {},
   "outputs": [],
   "source": [
    "import numpy as np"
   ]
  },
  {
   "cell_type": "code",
   "execution_count": 2,
   "metadata": {},
   "outputs": [],
   "source": [
    "data = np.loadtxt('data.csv',delimiter=',')"
   ]
  },
  {
   "cell_type": "code",
   "execution_count": 3,
   "metadata": {},
   "outputs": [],
   "source": [
    "x = data[:,0]\n",
    "y = data[:,1]"
   ]
  },
  {
   "cell_type": "code",
   "execution_count": 6,
   "metadata": {},
   "outputs": [
    {
     "data": {
      "text/plain": [
       "(30,)"
      ]
     },
     "execution_count": 6,
     "metadata": {},
     "output_type": "execute_result"
    }
   ],
   "source": [
    "from sklearn import model_selection\n",
    "\n",
    "X_train,X_test,Y_train,Y_test = model_selection.train_test_split(x,y,test_size =0.3)\n",
    "X_train.shape\n",
    "X_test.shape"
   ]
  },
  {
   "cell_type": "code",
   "execution_count": 27,
   "metadata": {},
   "outputs": [
    {
     "name": "stdout",
     "output_type": "stream",
     "text": [
      "Test Score: 0.5753684955189873\n",
      "Train Score: 0.6026956969775887\n",
      "M ,C : 1.2862555086041003 , 9.586754109929437\n",
      "Cost on Training Data: 109.14707110149762\n"
     ]
    }
   ],
   "source": [
    "def fit(x,y):#here x and y are X_train and Y_train\n",
    "    num = ((x*y).mean()-(x.mean()*y.mean()))\n",
    "    den = (x**2).mean()-(x.mean()**2)\n",
    "    slope = num/den\n",
    "    constant =y.mean()-slope*x.mean()\n",
    "    return slope,constant\n",
    "\n",
    "def predict(x,slope,c):#here x is the X_test and c == the constant\n",
    "    y = slope*x+c\n",
    "    return y #returning the predicted values vector\n",
    "\n",
    "\n",
    "def score(y_pred,y_test):\n",
    "    u = ((y_test-y_pred)**2).sum()\n",
    "    v = ((y_test-y_test.mean())**2).sum()\n",
    "    cod = 1-(u/v)\n",
    "    return cod\n",
    "\n",
    "def cost(x,y,m,c):\n",
    "    return ((y-m*x-c)**2).mean()#ie taking average of the diffence of square of perdicted and real value.\n",
    "\n",
    "#getting slope and c.\n",
    "m,c = fit(X_train,Y_train)\n",
    "#predicting the X_train\n",
    "y_train_prediction = predict(X_train,m,c)\n",
    "y_test_prediction = predict(X_test,m,c)\n",
    "#calculating the score\n",
    "print(\"Test Score:\",score(y_test_prediction,Y_test))\n",
    "\n",
    "print(\"Train Score:\",score(y_train_prediction,Y_train))\n",
    "\n",
    "print(\"M ,C :\",m,',',c)\n",
    "\n",
    "print(\"Cost on Training Data:\",cost(X_train,Y_train,m,c))"
   ]
  },
  {
   "cell_type": "code",
   "execution_count": null,
   "metadata": {},
   "outputs": [],
   "source": []
  }
 ],
 "metadata": {
  "kernelspec": {
   "display_name": "Python 3",
   "language": "python",
   "name": "python3"
  },
  "language_info": {
   "codemirror_mode": {
    "name": "ipython",
    "version": 3
   },
   "file_extension": ".py",
   "mimetype": "text/x-python",
   "name": "python",
   "nbconvert_exporter": "python",
   "pygments_lexer": "ipython3",
   "version": "3.6.4"
  }
 },
 "nbformat": 4,
 "nbformat_minor": 2
}
